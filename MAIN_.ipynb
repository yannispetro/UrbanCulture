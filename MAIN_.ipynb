{
 "cells": [
  {
   "cell_type": "code",
   "execution_count": null,
   "metadata": {},
   "outputs": [],
   "source": [
    "import pandas as pd\n",
    "import requests\n",
    "from bs4 import BeautifulSoup\n",
    "\n",
    "import warnings\n",
    "warnings.filterwarnings('ignore')\n",
    "\n",
    "import dataprocessing as datap\n",
    "import dataclustering as datac\n",
    "import plotonmap\n",
    "import recommendations as recom"
   ]
  },
  {
   "cell_type": "code",
   "execution_count": null,
   "metadata": {},
   "outputs": [],
   "source": [
    "df_url = pd.read_csv('data/allCitiesData.csv.gz', compression='gzip')\n",
    "allCities = list(df_url.city)"
   ]
  },
  {
   "cell_type": "code",
   "execution_count": null,
   "metadata": {},
   "outputs": [],
   "source": [
    "# # Stemming\n",
    "# i = 0\n",
    "# for city in ['athens']: #allCities[56:]:\n",
    "#     i += 1\n",
    "#     print(i,city,'| ',end='')\n",
    "#     dfal   = datap.load_data(city)\n",
    "#     dfal   = datap.stemming(dfal)\n",
    "#     dfal.to_csv('files/' + city + '_stemmed.csv.gz', compression='gzip')"
   ]
  },
  {
   "cell_type": "code",
   "execution_count": null,
   "metadata": {},
   "outputs": [],
   "source": [
    "# # Model fitting and data aggregation\n",
    "# i = 0\n",
    "# for city in allCities[76:]:\n",
    "#     i += 1\n",
    "#     print(i,city,'| ',end='')\n",
    "\n",
    "#     dfal = pd.read_csv('files/' + city + '_stemmed.csv.gz', compression='gzip')\n",
    "#     dfal.dropna(subset=['latitude','longitude'],inplace=True)\n",
    "    \n",
    "#     print(len(dfal),'listings | ',end='')\n",
    "    \n",
    "#     dfal2  = datap.fit_tfidfs(dfal, city)\n",
    "#     df_rbc = datap.extractMostRelevant(dfal2, city, rbc = ['restaurant','bar','coffee'],percent=0.15)\n",
    "    \n",
    "#     X, dfb = datac.exclude_outliers(df_rbc, percent=0.05,plot=False)\n",
    "#     kmeans, N_clusters = datac.kmeans_(X)\n",
    "    \n",
    "#     dfb, dfc = datac.get_cluster_data( city, X, kmeans, N_clusters, dfb, dfal2 )\n",
    "#     dfn = datap.get_neighborhood_data( dfal, dfc, kmeans )\n",
    "    \n",
    "#     dfc.to_pickle('models/' +  city + '_dfc.pkl.gz', compression = 'gzip')\n",
    "#     dfn.to_pickle('models/' +  city + '_dfn.pkl.gz', compression = 'gzip')"
   ]
  },
  {
   "cell_type": "code",
   "execution_count": null,
   "metadata": {},
   "outputs": [],
   "source": [
    "city = 'new-york-city'"
   ]
  },
  {
   "cell_type": "code",
   "execution_count": null,
   "metadata": {},
   "outputs": [],
   "source": [
    "dfc = pd.read_pickle('models/' + city + '_dfc.pkl.gz', compression='gzip')\n",
    "dfn = pd.read_pickle('models/' + city + '_dfn.pkl.gz', compression='gzip')"
   ]
  },
  {
   "cell_type": "code",
   "execution_count": null,
   "metadata": {},
   "outputs": [],
   "source": [
    "kws = ['hipster','hipsters','hippie','hippy','art','arty','artistic','artists','artist']\n",
    "# kws = ['classy','expensive','high end','fancy']\n",
    "# kws = ['clubs','nighlife','live music']\n",
    "dfc = recom.keywords_score(kws, dfc, city)"
   ]
  },
  {
   "cell_type": "code",
   "execution_count": null,
   "metadata": {},
   "outputs": [],
   "source": [
    "plotonmap.plot_clusters(dfc, dfn, streets=True, colorScores = False)"
   ]
  },
  {
   "cell_type": "code",
   "execution_count": null,
   "metadata": {},
   "outputs": [],
   "source": [
    "import numpy as np\n",
    "np.array(list(dfc['mean']))"
   ]
  },
  {
   "cell_type": "code",
   "execution_count": null,
   "metadata": {},
   "outputs": [],
   "source": [
    "df_url = df_url[df_url.city != 'ireland']\n",
    "df_url = df_url[df_url.city != 'san-mateo-county']"
   ]
  },
  {
   "cell_type": "code",
   "execution_count": null,
   "metadata": {},
   "outputs": [],
   "source": [
    "def fix_names(x):\n",
    "    if '-' in x:\n",
    "        l = x.replace('-',' ')\n",
    "        l = l.split()\n",
    "        l = [y[0].upper() + y[1:] for y in l]\n",
    "        return ' '.join(l)\n",
    "    else:\n",
    "        return x[0].upper() + x[1:]"
   ]
  },
  {
   "cell_type": "code",
   "execution_count": null,
   "metadata": {},
   "outputs": [],
   "source": [
    "df_url['country_clean'] = df_url['country'].apply(fix_names)"
   ]
  },
  {
   "cell_type": "code",
   "execution_count": null,
   "metadata": {},
   "outputs": [],
   "source": [
    "df_url['city_clean'] = df_url['city'].apply(fix_names)"
   ]
  },
  {
   "cell_type": "code",
   "execution_count": null,
   "metadata": {},
   "outputs": [],
   "source": [
    "df_url = df_url.drop(columns=['Unnamed: 0'])"
   ]
  },
  {
   "cell_type": "code",
   "execution_count": null,
   "metadata": {},
   "outputs": [],
   "source": []
  },
  {
   "cell_type": "code",
   "execution_count": null,
   "metadata": {},
   "outputs": [],
   "source": [
    "df_url.to_csv('data/allCitiesData.csv.gz', compression='gzip')"
   ]
  },
  {
   "cell_type": "code",
   "execution_count": null,
   "metadata": {},
   "outputs": [],
   "source": [
    "df_url"
   ]
  },
  {
   "cell_type": "code",
   "execution_count": null,
   "metadata": {},
   "outputs": [],
   "source": [
    "import pandas as pd"
   ]
  },
  {
   "cell_type": "code",
   "execution_count": null,
   "metadata": {},
   "outputs": [],
   "source": [
    "dfal = pd.read_csv('data/tokyo_listings.csv.gz', compression='gzip')"
   ]
  },
  {
   "cell_type": "code",
   "execution_count": null,
   "metadata": {},
   "outputs": [],
   "source": [
    "list(dfal.columns)"
   ]
  },
  {
   "cell_type": "code",
   "execution_count": null,
   "metadata": {},
   "outputs": [],
   "source": [
    "dfal.monthly_price"
   ]
  },
  {
   "cell_type": "code",
   "execution_count": null,
   "metadata": {},
   "outputs": [],
   "source": []
  }
 ],
 "metadata": {
  "kernelspec": {
   "display_name": "Python 3",
   "language": "python",
   "name": "python3"
  },
  "language_info": {
   "codemirror_mode": {
    "name": "ipython",
    "version": 3
   },
   "file_extension": ".py",
   "mimetype": "text/x-python",
   "name": "python",
   "nbconvert_exporter": "python",
   "pygments_lexer": "ipython3",
   "version": "3.7.3"
  }
 },
 "nbformat": 4,
 "nbformat_minor": 2
}
